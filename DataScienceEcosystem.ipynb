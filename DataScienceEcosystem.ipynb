{
 "cells": [
  {
   "cell_type": "markdown",
   "id": "11b65fe9-f501-4c60-a8f6-eec5e2f051c9",
   "metadata": {},
   "source": [
    "# Data Science Tools and Ecosystem"
   ]
  },
  {
   "cell_type": "markdown",
   "id": "1257ddcf-3ba0-4cc4-bb85-0ce63f1a36bd",
   "metadata": {},
   "source": [
    "In this notebook, Data Science Tools and Ecosystem are summarized."
   ]
  },
  {
   "cell_type": "markdown",
   "id": "068f53a5-f7ca-4ab9-a556-e0fcfaa8b2c7",
   "metadata": {},
   "source": [
    "Some of the popular languages that Data Scientists use are:\n",
    "\n",
    "1. Python\n",
    "2. Java\n",
    "3. Scala\n",
    " "
   ]
  },
  {
   "cell_type": "markdown",
   "id": "a8c06ee0-6020-40be-b5c6-e8f32beadf43",
   "metadata": {},
   "source": [
    "Some of the commonly used libraries used by Data Scientists include:\n",
    "1. Pandas\n",
    "2. NumPy\n",
    "3. TensorFlow\n",
    "4. NLTK\n"
   ]
  },
  {
   "cell_type": "markdown",
   "id": "370a17fd-21c4-4757-951f-e65b48af1a46",
   "metadata": {},
   "source": [
    "| Data Science Tools | \n",
    "|-----------------|\n",
    "| Jupyter Notebook   | \n",
    "| RStudio   | \n",
    "| VS Code   | \n"
   ]
  },
  {
   "cell_type": "markdown",
   "id": "b89b4fdf-1abd-4a86-af4e-116e570fbad3",
   "metadata": {},
   "source": [
    "Below are a few examples of evaluating arithmetic expressions in Python"
   ]
  },
  {
   "cell_type": "code",
   "execution_count": 6,
   "id": "c4d57284-010d-4943-a799-db45e0e57aab",
   "metadata": {},
   "outputs": [
    {
     "data": {
      "text/plain": [
       "17"
      ]
     },
     "execution_count": 6,
     "metadata": {},
     "output_type": "execute_result"
    }
   ],
   "source": [
    "# This a simple arithmetic expression to mutiply then add integers\n",
    "(3*4)+5"
   ]
  },
  {
   "cell_type": "code",
   "execution_count": null,
   "id": "55b5ee37-a146-4ba8-96bb-1ebac2ac3833",
   "metadata": {},
   "outputs": [],
   "source": [
    "# This will convert 200 minutes to hours by diving by 60\n",
    "200 / 60"
   ]
  },
  {
   "cell_type": "markdown",
   "id": "767091ac-03c3-4367-a6c5-ef5aa0807ee3",
   "metadata": {},
   "source": [
    "**Objectives:**\n",
    "\n",
    "List popular languages for Data Science\n",
    "* Python\n",
    "* Java\n",
    "* Scala"
   ]
  },
  {
   "cell_type": "markdown",
   "id": "600dc531-bca4-4af2-9c84-13ac78cccee9",
   "metadata": {},
   "source": [
    "## Author\n",
    "Aiming Aiming"
   ]
  },
  {
   "cell_type": "code",
   "execution_count": null,
   "id": "df3364bb-8bc0-4d23-a88d-a7019fb176d2",
   "metadata": {},
   "outputs": [],
   "source": []
  }
 ],
 "metadata": {
  "kernelspec": {
   "display_name": "Python 3 (ipykernel)",
   "language": "python",
   "name": "python3"
  },
  "language_info": {
   "codemirror_mode": {
    "name": "ipython",
    "version": 3
   },
   "file_extension": ".py",
   "mimetype": "text/x-python",
   "name": "python",
   "nbconvert_exporter": "python",
   "pygments_lexer": "ipython3",
   "version": "3.11.9"
  }
 },
 "nbformat": 4,
 "nbformat_minor": 5
}
